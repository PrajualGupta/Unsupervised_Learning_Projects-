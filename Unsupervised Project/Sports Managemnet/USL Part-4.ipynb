{
 "cells": [
  {
   "cell_type": "code",
   "execution_count": 1,
   "id": "05779942",
   "metadata": {},
   "outputs": [],
   "source": [
    "import pandas as pd\n",
    "import numpy as np "
   ]
  },
  {
   "cell_type": "markdown",
   "id": "558b825a",
   "metadata": {},
   "source": [
    "## Read and Cleaning the data"
   ]
  },
  {
   "cell_type": "code",
   "execution_count": 2,
   "id": "22ccc914",
   "metadata": {},
   "outputs": [
    {
     "data": {
      "text/html": [
       "<div>\n",
       "<style scoped>\n",
       "    .dataframe tbody tr th:only-of-type {\n",
       "        vertical-align: middle;\n",
       "    }\n",
       "\n",
       "    .dataframe tbody tr th {\n",
       "        vertical-align: top;\n",
       "    }\n",
       "\n",
       "    .dataframe thead th {\n",
       "        text-align: right;\n",
       "    }\n",
       "</style>\n",
       "<table border=\"1\" class=\"dataframe\">\n",
       "  <thead>\n",
       "    <tr style=\"text-align: right;\">\n",
       "      <th></th>\n",
       "      <th>Name</th>\n",
       "      <th>Runs</th>\n",
       "      <th>Ave</th>\n",
       "      <th>SR</th>\n",
       "      <th>Fours</th>\n",
       "      <th>Sixes</th>\n",
       "      <th>HF</th>\n",
       "    </tr>\n",
       "  </thead>\n",
       "  <tbody>\n",
       "    <tr>\n",
       "      <th>0</th>\n",
       "      <td>NaN</td>\n",
       "      <td>NaN</td>\n",
       "      <td>NaN</td>\n",
       "      <td>NaN</td>\n",
       "      <td>NaN</td>\n",
       "      <td>NaN</td>\n",
       "      <td>NaN</td>\n",
       "    </tr>\n",
       "    <tr>\n",
       "      <th>1</th>\n",
       "      <td>CH Gayle</td>\n",
       "      <td>733.0</td>\n",
       "      <td>61.08</td>\n",
       "      <td>160.74</td>\n",
       "      <td>46.0</td>\n",
       "      <td>59.0</td>\n",
       "      <td>9.0</td>\n",
       "    </tr>\n",
       "    <tr>\n",
       "      <th>2</th>\n",
       "      <td>NaN</td>\n",
       "      <td>NaN</td>\n",
       "      <td>NaN</td>\n",
       "      <td>NaN</td>\n",
       "      <td>NaN</td>\n",
       "      <td>NaN</td>\n",
       "      <td>NaN</td>\n",
       "    </tr>\n",
       "    <tr>\n",
       "      <th>3</th>\n",
       "      <td>G Gambhir</td>\n",
       "      <td>590.0</td>\n",
       "      <td>36.87</td>\n",
       "      <td>143.55</td>\n",
       "      <td>64.0</td>\n",
       "      <td>17.0</td>\n",
       "      <td>6.0</td>\n",
       "    </tr>\n",
       "    <tr>\n",
       "      <th>4</th>\n",
       "      <td>NaN</td>\n",
       "      <td>NaN</td>\n",
       "      <td>NaN</td>\n",
       "      <td>NaN</td>\n",
       "      <td>NaN</td>\n",
       "      <td>NaN</td>\n",
       "      <td>NaN</td>\n",
       "    </tr>\n",
       "  </tbody>\n",
       "</table>\n",
       "</div>"
      ],
      "text/plain": [
       "        Name   Runs    Ave      SR  Fours  Sixes   HF\n",
       "0        NaN    NaN    NaN     NaN    NaN    NaN  NaN\n",
       "1   CH Gayle  733.0  61.08  160.74   46.0   59.0  9.0\n",
       "2        NaN    NaN    NaN     NaN    NaN    NaN  NaN\n",
       "3  G Gambhir  590.0  36.87  143.55   64.0   17.0  6.0\n",
       "4        NaN    NaN    NaN     NaN    NaN    NaN  NaN"
      ]
     },
     "execution_count": 2,
     "metadata": {},
     "output_type": "execute_result"
    }
   ],
   "source": [
    "stats=pd.read_csv('Part4 - sports.csv')\n",
    "stats.head()"
   ]
  },
  {
   "cell_type": "markdown",
   "id": "2dfb1c8e",
   "metadata": {},
   "source": [
    "## EDA"
   ]
  },
  {
   "cell_type": "code",
   "execution_count": 3,
   "id": "0b817166",
   "metadata": {},
   "outputs": [
    {
     "data": {
      "text/plain": [
       "Name     90\n",
       "Runs     90\n",
       "Ave      90\n",
       "SR       90\n",
       "Fours    90\n",
       "Sixes    90\n",
       "HF       90\n",
       "dtype: int64"
      ]
     },
     "execution_count": 3,
     "metadata": {},
     "output_type": "execute_result"
    }
   ],
   "source": [
    "stats.isna().sum()"
   ]
  },
  {
   "cell_type": "code",
   "execution_count": 4,
   "id": "985680b6",
   "metadata": {},
   "outputs": [
    {
     "data": {
      "text/plain": [
       "(90, 7)"
      ]
     },
     "execution_count": 4,
     "metadata": {},
     "output_type": "execute_result"
    }
   ],
   "source": [
    "stats=stats.dropna(axis=0)\n",
    "stats.shape"
   ]
  },
  {
   "cell_type": "code",
   "execution_count": 5,
   "id": "73c8fde1",
   "metadata": {},
   "outputs": [
    {
     "data": {
      "text/plain": [
       "Name      object\n",
       "Runs     float64\n",
       "Ave      float64\n",
       "SR       float64\n",
       "Fours    float64\n",
       "Sixes    float64\n",
       "HF       float64\n",
       "dtype: object"
      ]
     },
     "execution_count": 5,
     "metadata": {},
     "output_type": "execute_result"
    }
   ],
   "source": [
    "stats.dtypes"
   ]
  },
  {
   "cell_type": "code",
   "execution_count": 6,
   "id": "9162e64f",
   "metadata": {},
   "outputs": [
    {
     "name": "stdout",
     "output_type": "stream",
     "text": [
      "<class 'pandas.core.frame.DataFrame'>\n",
      "Int64Index: 90 entries, 1 to 179\n",
      "Data columns (total 7 columns):\n",
      " #   Column  Non-Null Count  Dtype  \n",
      "---  ------  --------------  -----  \n",
      " 0   Name    90 non-null     object \n",
      " 1   Runs    90 non-null     float64\n",
      " 2   Ave     90 non-null     float64\n",
      " 3   SR      90 non-null     float64\n",
      " 4   Fours   90 non-null     float64\n",
      " 5   Sixes   90 non-null     float64\n",
      " 6   HF      90 non-null     float64\n",
      "dtypes: float64(6), object(1)\n",
      "memory usage: 5.6+ KB\n"
     ]
    }
   ],
   "source": [
    "stats.info()"
   ]
  },
  {
   "cell_type": "code",
   "execution_count": 7,
   "id": "cf0055bd",
   "metadata": {},
   "outputs": [
    {
     "data": {
      "text/html": [
       "<div>\n",
       "<style scoped>\n",
       "    .dataframe tbody tr th:only-of-type {\n",
       "        vertical-align: middle;\n",
       "    }\n",
       "\n",
       "    .dataframe tbody tr th {\n",
       "        vertical-align: top;\n",
       "    }\n",
       "\n",
       "    .dataframe thead th {\n",
       "        text-align: right;\n",
       "    }\n",
       "</style>\n",
       "<table border=\"1\" class=\"dataframe\">\n",
       "  <thead>\n",
       "    <tr style=\"text-align: right;\">\n",
       "      <th></th>\n",
       "      <th>Runs</th>\n",
       "      <th>Ave</th>\n",
       "      <th>SR</th>\n",
       "      <th>Fours</th>\n",
       "      <th>Sixes</th>\n",
       "      <th>HF</th>\n",
       "    </tr>\n",
       "  </thead>\n",
       "  <tbody>\n",
       "    <tr>\n",
       "      <th>count</th>\n",
       "      <td>90.000000</td>\n",
       "      <td>90.000000</td>\n",
       "      <td>90.000000</td>\n",
       "      <td>90.000000</td>\n",
       "      <td>90.000000</td>\n",
       "      <td>90.000000</td>\n",
       "    </tr>\n",
       "    <tr>\n",
       "      <th>mean</th>\n",
       "      <td>219.933333</td>\n",
       "      <td>24.729889</td>\n",
       "      <td>119.164111</td>\n",
       "      <td>19.788889</td>\n",
       "      <td>7.577778</td>\n",
       "      <td>1.188889</td>\n",
       "    </tr>\n",
       "    <tr>\n",
       "      <th>std</th>\n",
       "      <td>156.253669</td>\n",
       "      <td>13.619215</td>\n",
       "      <td>23.656547</td>\n",
       "      <td>16.399845</td>\n",
       "      <td>8.001373</td>\n",
       "      <td>1.688656</td>\n",
       "    </tr>\n",
       "    <tr>\n",
       "      <th>min</th>\n",
       "      <td>2.000000</td>\n",
       "      <td>0.500000</td>\n",
       "      <td>18.180000</td>\n",
       "      <td>0.000000</td>\n",
       "      <td>0.000000</td>\n",
       "      <td>0.000000</td>\n",
       "    </tr>\n",
       "    <tr>\n",
       "      <th>25%</th>\n",
       "      <td>98.000000</td>\n",
       "      <td>14.665000</td>\n",
       "      <td>108.745000</td>\n",
       "      <td>6.250000</td>\n",
       "      <td>3.000000</td>\n",
       "      <td>0.000000</td>\n",
       "    </tr>\n",
       "    <tr>\n",
       "      <th>50%</th>\n",
       "      <td>196.500000</td>\n",
       "      <td>24.440000</td>\n",
       "      <td>120.135000</td>\n",
       "      <td>16.000000</td>\n",
       "      <td>6.000000</td>\n",
       "      <td>0.500000</td>\n",
       "    </tr>\n",
       "    <tr>\n",
       "      <th>75%</th>\n",
       "      <td>330.750000</td>\n",
       "      <td>32.195000</td>\n",
       "      <td>131.997500</td>\n",
       "      <td>28.000000</td>\n",
       "      <td>10.000000</td>\n",
       "      <td>2.000000</td>\n",
       "    </tr>\n",
       "    <tr>\n",
       "      <th>max</th>\n",
       "      <td>733.000000</td>\n",
       "      <td>81.330000</td>\n",
       "      <td>164.100000</td>\n",
       "      <td>73.000000</td>\n",
       "      <td>59.000000</td>\n",
       "      <td>9.000000</td>\n",
       "    </tr>\n",
       "  </tbody>\n",
       "</table>\n",
       "</div>"
      ],
      "text/plain": [
       "             Runs        Ave          SR      Fours      Sixes         HF\n",
       "count   90.000000  90.000000   90.000000  90.000000  90.000000  90.000000\n",
       "mean   219.933333  24.729889  119.164111  19.788889   7.577778   1.188889\n",
       "std    156.253669  13.619215   23.656547  16.399845   8.001373   1.688656\n",
       "min      2.000000   0.500000   18.180000   0.000000   0.000000   0.000000\n",
       "25%     98.000000  14.665000  108.745000   6.250000   3.000000   0.000000\n",
       "50%    196.500000  24.440000  120.135000  16.000000   6.000000   0.500000\n",
       "75%    330.750000  32.195000  131.997500  28.000000  10.000000   2.000000\n",
       "max    733.000000  81.330000  164.100000  73.000000  59.000000   9.000000"
      ]
     },
     "execution_count": 7,
     "metadata": {},
     "output_type": "execute_result"
    }
   ],
   "source": [
    "stats.describe()"
   ]
  },
  {
   "cell_type": "markdown",
   "id": "f6ae0692",
   "metadata": {},
   "source": [
    "## Bivariate Analysis"
   ]
  },
  {
   "cell_type": "code",
   "execution_count": 8,
   "id": "3a7ed6ad",
   "metadata": {},
   "outputs": [],
   "source": [
    "import seaborn as sns \n",
    "import matplotlib.pyplot as plt\n",
    "\n",
    "ipl=stats.copy(deep=True)"
   ]
  },
  {
   "cell_type": "code",
   "execution_count": 9,
   "id": "48480cda",
   "metadata": {},
   "outputs": [
    {
     "data": {
      "text/plain": [
       "<AxesSubplot:title={'center':' Number of Runs '}, xlabel='Runs', ylabel='Name'>"
      ]
     },
     "execution_count": 9,
     "metadata": {},
     "output_type": "execute_result"
    },
    {
     "data": {
      "image/png": "[encoded data removed]",
      "text/plain": [
       "<Figure size 1080x576 with 1 Axes>"
      ]
     },
     "metadata": {
      "needs_background": "light"
     },
     "output_type": "display_data"
    }
   ],
   "source": [
    "plt.figure(figsize=(15,8))\n",
    "ipl.sort_values('Runs',ascending=False).head()\n",
    "plt.title(' Number of Runs ')\n",
    "sns.barplot( x='Runs' , y= 'Name', data = ipl)"
   ]
  },
  {
   "cell_type": "code",
   "execution_count": 10,
   "id": "2254e059",
   "metadata": {},
   "outputs": [
    {
     "data": {
      "text/plain": [
       "<AxesSubplot:title={'center':'Top 10 Average of Players'}, xlabel='Name', ylabel='Ave'>"
      ]
     },
     "execution_count": 10,
     "metadata": {},
     "output_type": "execute_result"
    },
    {
     "data": {
      "image/png": "[encoded data removed]",
      "text/plain": [
       "<Figure size 1080x576 with 1 Axes>"
      ]
     },
     "metadata": {
      "needs_background": "light"
     },
     "output_type": "display_data"
    }
   ],
   "source": [
    "plt.figure(figsize=(15,8))\n",
    "ipl=stats.sort_values('Ave',ascending=False).head(10)\n",
    "plt.title('Top 10 Average of Players')\n",
    "sns.barplot( x='Name' , y= 'Ave', data=ipl)"
   ]
  },
  {
   "cell_type": "code",
   "execution_count": 11,
   "id": "e16ad8e5",
   "metadata": {},
   "outputs": [
    {
     "data": {
      "text/plain": [
       "<AxesSubplot:title={'center':' Top 10 Strike Rate of Batsmen '}, xlabel='Name', ylabel='SR'>"
      ]
     },
     "execution_count": 11,
     "metadata": {},
     "output_type": "execute_result"
    },
    {
     "data": {
      "image/png": "[encoded data removed]",
      "text/plain": [
       "<Figure size 1080x576 with 1 Axes>"
      ]
     },
     "metadata": {
      "needs_background": "light"
     },
     "output_type": "display_data"
    }
   ],
   "source": [
    "plt.figure(figsize=(15,8))\n",
    "ipl=stats.sort_values('SR',ascending=False).head(10)\n",
    "plt.title(' Top 10 Strike Rate of Batsmen ')\n",
    "sns.barplot(data=ipl, x='Name' , y= 'SR')"
   ]
  },
  {
   "cell_type": "code",
   "execution_count": 12,
   "id": "8d82031d",
   "metadata": {},
   "outputs": [
    {
     "data": {
      "text/plain": [
       "<AxesSubplot:title={'center':'Most Number of Sixes '}, xlabel='Name', ylabel='Sixes'>"
      ]
     },
     "execution_count": 12,
     "metadata": {},
     "output_type": "execute_result"
    },
    {
     "data": {
      "image/png": "[encoded data removed]",
      "text/plain": [
       "<Figure size 1080x576 with 1 Axes>"
      ]
     },
     "metadata": {
      "needs_background": "light"
     },
     "output_type": "display_data"
    }
   ],
   "source": [
    "plt.figure(figsize=(15,8))\n",
    "ipl=stats.sort_values('Sixes',ascending=False).head(10)\n",
    "plt.title('Most Number of Sixes ')\n",
    "sns.barplot(data=ipl, x='Name' , y= 'Sixes')"
   ]
  },
  {
   "cell_type": "code",
   "execution_count": 13,
   "id": "061d6e5d",
   "metadata": {},
   "outputs": [
    {
     "data": {
      "image/png": "[encoded data removed]",
      "text/plain": [
       "<Figure size 1080x576 with 1 Axes>"
      ]
     },
     "metadata": {
      "needs_background": "light"
     },
     "output_type": "display_data"
    }
   ],
   "source": [
    "plt.figure(figsize=(15,8))\n",
    "ipl=stats.sort_values('HF',ascending=False).head(10)\n",
    "plt.title('Most Number of HF ')\n",
    "sns.barplot(data=ipl, x='Name' , y= 'HF');"
   ]
  },
  {
   "cell_type": "code",
   "execution_count": 14,
   "id": "8820b0ac",
   "metadata": {},
   "outputs": [
    {
     "data": {
      "text/html": [
       "<div>\n",
       "<style scoped>\n",
       "    .dataframe tbody tr th:only-of-type {\n",
       "        vertical-align: middle;\n",
       "    }\n",
       "\n",
       "    .dataframe tbody tr th {\n",
       "        vertical-align: top;\n",
       "    }\n",
       "\n",
       "    .dataframe thead th {\n",
       "        text-align: right;\n",
       "    }\n",
       "</style>\n",
       "<table border=\"1\" class=\"dataframe\">\n",
       "  <thead>\n",
       "    <tr style=\"text-align: right;\">\n",
       "      <th></th>\n",
       "      <th>Runs</th>\n",
       "      <th>Ave</th>\n",
       "      <th>SR</th>\n",
       "      <th>Fours</th>\n",
       "      <th>Sixes</th>\n",
       "      <th>HF</th>\n",
       "    </tr>\n",
       "  </thead>\n",
       "  <tbody>\n",
       "    <tr>\n",
       "      <th>1</th>\n",
       "      <td>733.0</td>\n",
       "      <td>61.08</td>\n",
       "      <td>160.74</td>\n",
       "      <td>46.0</td>\n",
       "      <td>59.0</td>\n",
       "      <td>9.0</td>\n",
       "    </tr>\n",
       "    <tr>\n",
       "      <th>3</th>\n",
       "      <td>590.0</td>\n",
       "      <td>36.87</td>\n",
       "      <td>143.55</td>\n",
       "      <td>64.0</td>\n",
       "      <td>17.0</td>\n",
       "      <td>6.0</td>\n",
       "    </tr>\n",
       "    <tr>\n",
       "      <th>5</th>\n",
       "      <td>495.0</td>\n",
       "      <td>33.00</td>\n",
       "      <td>161.23</td>\n",
       "      <td>57.0</td>\n",
       "      <td>19.0</td>\n",
       "      <td>5.0</td>\n",
       "    </tr>\n",
       "    <tr>\n",
       "      <th>7</th>\n",
       "      <td>479.0</td>\n",
       "      <td>43.54</td>\n",
       "      <td>149.68</td>\n",
       "      <td>41.0</td>\n",
       "      <td>20.0</td>\n",
       "      <td>5.0</td>\n",
       "    </tr>\n",
       "    <tr>\n",
       "      <th>9</th>\n",
       "      <td>569.0</td>\n",
       "      <td>40.64</td>\n",
       "      <td>129.61</td>\n",
       "      <td>58.0</td>\n",
       "      <td>18.0</td>\n",
       "      <td>5.0</td>\n",
       "    </tr>\n",
       "  </tbody>\n",
       "</table>\n",
       "</div>"
      ],
      "text/plain": [
       "    Runs    Ave      SR  Fours  Sixes   HF\n",
       "1  733.0  61.08  160.74   46.0   59.0  9.0\n",
       "3  590.0  36.87  143.55   64.0   17.0  6.0\n",
       "5  495.0  33.00  161.23   57.0   19.0  5.0\n",
       "7  479.0  43.54  149.68   41.0   20.0  5.0\n",
       "9  569.0  40.64  129.61   58.0   18.0  5.0"
      ]
     },
     "execution_count": 14,
     "metadata": {},
     "output_type": "execute_result"
    }
   ],
   "source": [
    "best=stats\n",
    "best=best.drop(columns=['Name'])\n",
    "best.head()"
   ]
  },
  {
   "cell_type": "markdown",
   "id": "373db842",
   "metadata": {},
   "source": [
    "##  Correlation "
   ]
  },
  {
   "cell_type": "code",
   "execution_count": 15,
   "id": "968521ae",
   "metadata": {},
   "outputs": [
    {
     "data": {
      "text/html": [
       "<div>\n",
       "<style scoped>\n",
       "    .dataframe tbody tr th:only-of-type {\n",
       "        vertical-align: middle;\n",
       "    }\n",
       "\n",
       "    .dataframe tbody tr th {\n",
       "        vertical-align: top;\n",
       "    }\n",
       "\n",
       "    .dataframe thead th {\n",
       "        text-align: right;\n",
       "    }\n",
       "</style>\n",
       "<table border=\"1\" class=\"dataframe\">\n",
       "  <thead>\n",
       "    <tr style=\"text-align: right;\">\n",
       "      <th></th>\n",
       "      <th>Runs</th>\n",
       "      <th>Ave</th>\n",
       "      <th>SR</th>\n",
       "      <th>Fours</th>\n",
       "      <th>Sixes</th>\n",
       "      <th>HF</th>\n",
       "    </tr>\n",
       "  </thead>\n",
       "  <tbody>\n",
       "    <tr>\n",
       "      <th>Runs</th>\n",
       "      <td>1.000000</td>\n",
       "      <td>0.791919</td>\n",
       "      <td>0.456315</td>\n",
       "      <td>0.952898</td>\n",
       "      <td>0.814127</td>\n",
       "      <td>0.798133</td>\n",
       "    </tr>\n",
       "    <tr>\n",
       "      <th>Ave</th>\n",
       "      <td>0.791919</td>\n",
       "      <td>1.000000</td>\n",
       "      <td>0.631531</td>\n",
       "      <td>0.737036</td>\n",
       "      <td>0.779725</td>\n",
       "      <td>0.684022</td>\n",
       "    </tr>\n",
       "    <tr>\n",
       "      <th>SR</th>\n",
       "      <td>0.456315</td>\n",
       "      <td>0.631531</td>\n",
       "      <td>1.000000</td>\n",
       "      <td>0.391549</td>\n",
       "      <td>0.713285</td>\n",
       "      <td>0.376038</td>\n",
       "    </tr>\n",
       "    <tr>\n",
       "      <th>Fours</th>\n",
       "      <td>0.952898</td>\n",
       "      <td>0.737036</td>\n",
       "      <td>0.391549</td>\n",
       "      <td>1.000000</td>\n",
       "      <td>0.679806</td>\n",
       "      <td>0.812597</td>\n",
       "    </tr>\n",
       "    <tr>\n",
       "      <th>Sixes</th>\n",
       "      <td>0.814127</td>\n",
       "      <td>0.779725</td>\n",
       "      <td>0.713285</td>\n",
       "      <td>0.679806</td>\n",
       "      <td>1.000000</td>\n",
       "      <td>0.657885</td>\n",
       "    </tr>\n",
       "    <tr>\n",
       "      <th>HF</th>\n",
       "      <td>0.798133</td>\n",
       "      <td>0.684022</td>\n",
       "      <td>0.376038</td>\n",
       "      <td>0.812597</td>\n",
       "      <td>0.657885</td>\n",
       "      <td>1.000000</td>\n",
       "    </tr>\n",
       "  </tbody>\n",
       "</table>\n",
       "</div>"
      ],
      "text/plain": [
       "           Runs       Ave        SR     Fours     Sixes        HF\n",
       "Runs   1.000000  0.791919  0.456315  0.952898  0.814127  0.798133\n",
       "Ave    0.791919  1.000000  0.631531  0.737036  0.779725  0.684022\n",
       "SR     0.456315  0.631531  1.000000  0.391549  0.713285  0.376038\n",
       "Fours  0.952898  0.737036  0.391549  1.000000  0.679806  0.812597\n",
       "Sixes  0.814127  0.779725  0.713285  0.679806  1.000000  0.657885\n",
       "HF     0.798133  0.684022  0.376038  0.812597  0.657885  1.000000"
      ]
     },
     "execution_count": 15,
     "metadata": {},
     "output_type": "execute_result"
    }
   ],
   "source": [
    "corr=best.corr(method='spearman')\n",
    "corr"
   ]
  },
  {
   "cell_type": "code",
   "execution_count": 16,
   "id": "b3a0a08d",
   "metadata": {},
   "outputs": [
    {
     "data": {
      "text/plain": [
       "<AxesSubplot:>"
      ]
     },
     "execution_count": 16,
     "metadata": {},
     "output_type": "execute_result"
    },
    {
     "data": {
      "image/png": "[encoded data removed]",
      "text/plain": [
       "<Figure size 720x576 with 2 Axes>"
      ]
     },
     "metadata": {
      "needs_background": "light"
     },
     "output_type": "display_data"
    }
   ],
   "source": [
    "plt.figure(figsize=(10,8))\n",
    "sns.heatmap(corr, vmin=0.8, linecolor='Red', annot=True)"
   ]
  },
  {
   "cell_type": "markdown",
   "id": "5df2d269",
   "metadata": {},
   "source": [
    "### Observation\n",
    "   1. Sixes and fours are Highly co-related with Runs \n",
    "   2. Fours is co-related with HF."
   ]
  },
  {
   "cell_type": "markdown",
   "id": "ee708dcc",
   "metadata": {},
   "source": [
    "### Highly Co-related features"
   ]
  },
  {
   "cell_type": "code",
   "execution_count": 17,
   "id": "1a054249",
   "metadata": {},
   "outputs": [
    {
     "data": {
      "text/plain": [
       "<Figure size 576x432 with 0 Axes>"
      ]
     },
     "metadata": {},
     "output_type": "display_data"
    },
    {
     "data": {
      "image/png": "[encoded data removed]",
      "text/plain": [
       "<Figure size 360x360 with 1 Axes>"
      ]
     },
     "metadata": {
      "needs_background": "light"
     },
     "output_type": "display_data"
    }
   ],
   "source": [
    "plt.figure(figsize=(8,6))\n",
    "sns.lmplot(x='Sixes',y='Runs',data=best);"
   ]
  },
  {
   "cell_type": "code",
   "execution_count": 18,
   "id": "6100513e",
   "metadata": {},
   "outputs": [
    {
     "data": {
      "text/plain": [
       "<Figure size 576x432 with 0 Axes>"
      ]
     },
     "metadata": {},
     "output_type": "display_data"
    },
    {
     "data": {
      "image/png": "[encoded data removed]",
      "text/plain": [
       "<Figure size 360x360 with 1 Axes>"
      ]
     },
     "metadata": {
      "needs_background": "light"
     },
     "output_type": "display_data"
    }
   ],
   "source": [
    "plt.figure(figsize=(8,6))\n",
    "sns.lmplot(x='Fours',y='HF',data=best);"
   ]
  },
  {
   "cell_type": "markdown",
   "id": "32f1466c",
   "metadata": {},
   "source": [
    "## k_means Clustering"
   ]
  },
  {
   "cell_type": "code",
   "execution_count": 19,
   "id": "5ff9d19b",
   "metadata": {},
   "outputs": [],
   "source": [
    "from sklearn.cluster import KMeans\n",
    "import warnings\n",
    "warnings.filterwarnings('ignore')"
   ]
  },
  {
   "cell_type": "code",
   "execution_count": 20,
   "id": "c552b696",
   "metadata": {},
   "outputs": [],
   "source": [
    "wss =[] \n",
    "for i in range(1,5):\n",
    "    KM = KMeans(n_clusters=i)\n",
    "    KM.fit(best)\n",
    "    wss.append(KM.inertia_)"
   ]
  },
  {
   "cell_type": "markdown",
   "id": "5d457fa3",
   "metadata": {},
   "source": [
    "### Elbow Method\n",
    "#### To find the best numbers of Clusters"
   ]
  },
  {
   "cell_type": "code",
   "execution_count": 21,
   "id": "717bcbf5",
   "metadata": {},
   "outputs": [
    {
     "data": {
      "image/png": "[encoded data removed]",
      "text/plain": [
       "<Figure size 432x288 with 1 Axes>"
      ]
     },
     "metadata": {
      "needs_background": "light"
     },
     "output_type": "display_data"
    }
   ],
   "source": [
    "plt.plot(range(1,5), wss);\n",
    "plt.title('Elbow Method');\n",
    "plt.xlabel(\"Number of Clusters\")\n",
    "plt.ylabel(\"WSS\");"
   ]
  },
  {
   "cell_type": "code",
   "execution_count": 22,
   "id": "89e6998a",
   "metadata": {},
   "outputs": [],
   "source": [
    "from sklearn.cluster import KMeans\n",
    "k_means=KMeans(n_clusters=2)\n",
    "k_means.fit(best)\n",
    "labels=k_means.labels_"
   ]
  },
  {
   "cell_type": "code",
   "execution_count": 23,
   "id": "1a7627e3",
   "metadata": {},
   "outputs": [
    {
     "data": {
      "text/html": [
       "<div>\n",
       "<style scoped>\n",
       "    .dataframe tbody tr th:only-of-type {\n",
       "        vertical-align: middle;\n",
       "    }\n",
       "\n",
       "    .dataframe tbody tr th {\n",
       "        vertical-align: top;\n",
       "    }\n",
       "\n",
       "    .dataframe thead th {\n",
       "        text-align: right;\n",
       "    }\n",
       "</style>\n",
       "<table border=\"1\" class=\"dataframe\">\n",
       "  <thead>\n",
       "    <tr style=\"text-align: right;\">\n",
       "      <th></th>\n",
       "      <th>Name</th>\n",
       "      <th>Runs</th>\n",
       "      <th>Ave</th>\n",
       "      <th>SR</th>\n",
       "      <th>Fours</th>\n",
       "      <th>Sixes</th>\n",
       "      <th>HF</th>\n",
       "      <th>Clus</th>\n",
       "    </tr>\n",
       "  </thead>\n",
       "  <tbody>\n",
       "    <tr>\n",
       "      <th>1</th>\n",
       "      <td>CH Gayle</td>\n",
       "      <td>733.0</td>\n",
       "      <td>61.08</td>\n",
       "      <td>160.74</td>\n",
       "      <td>46.0</td>\n",
       "      <td>59.0</td>\n",
       "      <td>9.0</td>\n",
       "      <td>1</td>\n",
       "    </tr>\n",
       "    <tr>\n",
       "      <th>3</th>\n",
       "      <td>G Gambhir</td>\n",
       "      <td>590.0</td>\n",
       "      <td>36.87</td>\n",
       "      <td>143.55</td>\n",
       "      <td>64.0</td>\n",
       "      <td>17.0</td>\n",
       "      <td>6.0</td>\n",
       "      <td>1</td>\n",
       "    </tr>\n",
       "    <tr>\n",
       "      <th>5</th>\n",
       "      <td>V Sehwag</td>\n",
       "      <td>495.0</td>\n",
       "      <td>33.00</td>\n",
       "      <td>161.23</td>\n",
       "      <td>57.0</td>\n",
       "      <td>19.0</td>\n",
       "      <td>5.0</td>\n",
       "      <td>1</td>\n",
       "    </tr>\n",
       "    <tr>\n",
       "      <th>7</th>\n",
       "      <td>CL White</td>\n",
       "      <td>479.0</td>\n",
       "      <td>43.54</td>\n",
       "      <td>149.68</td>\n",
       "      <td>41.0</td>\n",
       "      <td>20.0</td>\n",
       "      <td>5.0</td>\n",
       "      <td>1</td>\n",
       "    </tr>\n",
       "    <tr>\n",
       "      <th>9</th>\n",
       "      <td>S Dhawan</td>\n",
       "      <td>569.0</td>\n",
       "      <td>40.64</td>\n",
       "      <td>129.61</td>\n",
       "      <td>58.0</td>\n",
       "      <td>18.0</td>\n",
       "      <td>5.0</td>\n",
       "      <td>1</td>\n",
       "    </tr>\n",
       "  </tbody>\n",
       "</table>\n",
       "</div>"
      ],
      "text/plain": [
       "        Name   Runs    Ave      SR  Fours  Sixes   HF  Clus\n",
       "1   CH Gayle  733.0  61.08  160.74   46.0   59.0  9.0     1\n",
       "3  G Gambhir  590.0  36.87  143.55   64.0   17.0  6.0     1\n",
       "5   V Sehwag  495.0  33.00  161.23   57.0   19.0  5.0     1\n",
       "7   CL White  479.0  43.54  149.68   41.0   20.0  5.0     1\n",
       "9   S Dhawan  569.0  40.64  129.61   58.0   18.0  5.0     1"
      ]
     },
     "execution_count": 23,
     "metadata": {},
     "output_type": "execute_result"
    }
   ],
   "source": [
    "stats['Clus']=labels\n",
    "stats.head()"
   ]
  },
  {
   "cell_type": "code",
   "execution_count": 24,
   "id": "096e6376",
   "metadata": {},
   "outputs": [
    {
     "data": {
      "text/plain": [
       "0    62\n",
       "1    28\n",
       "Name: Clus, dtype: int64"
      ]
     },
     "execution_count": 24,
     "metadata": {},
     "output_type": "execute_result"
    }
   ],
   "source": [
    "stats['Clus'].value_counts()"
   ]
  },
  {
   "cell_type": "code",
   "execution_count": 25,
   "id": "03c522b1",
   "metadata": {},
   "outputs": [
    {
     "data": {
      "text/html": [
       "<div>\n",
       "<style scoped>\n",
       "    .dataframe tbody tr th:only-of-type {\n",
       "        vertical-align: middle;\n",
       "    }\n",
       "\n",
       "    .dataframe tbody tr th {\n",
       "        vertical-align: top;\n",
       "    }\n",
       "\n",
       "    .dataframe thead th {\n",
       "        text-align: right;\n",
       "    }\n",
       "</style>\n",
       "<table border=\"1\" class=\"dataframe\">\n",
       "  <thead>\n",
       "    <tr style=\"text-align: right;\">\n",
       "      <th></th>\n",
       "      <th>Runs</th>\n",
       "      <th>Ave</th>\n",
       "      <th>SR</th>\n",
       "      <th>Fours</th>\n",
       "      <th>Sixes</th>\n",
       "      <th>HF</th>\n",
       "      <th>Count</th>\n",
       "    </tr>\n",
       "    <tr>\n",
       "      <th>Clus</th>\n",
       "      <th></th>\n",
       "      <th></th>\n",
       "      <th></th>\n",
       "      <th></th>\n",
       "      <th></th>\n",
       "      <th></th>\n",
       "      <th></th>\n",
       "    </tr>\n",
       "  </thead>\n",
       "  <tbody>\n",
       "    <tr>\n",
       "      <th>0</th>\n",
       "      <td>134.451613</td>\n",
       "      <td>20.091774</td>\n",
       "      <td>114.370323</td>\n",
       "      <td>11.290323</td>\n",
       "      <td>4.645161</td>\n",
       "      <td>0.419355</td>\n",
       "      <td>62</td>\n",
       "    </tr>\n",
       "    <tr>\n",
       "      <th>1</th>\n",
       "      <td>409.214286</td>\n",
       "      <td>35.000000</td>\n",
       "      <td>129.778929</td>\n",
       "      <td>38.607143</td>\n",
       "      <td>14.071429</td>\n",
       "      <td>2.892857</td>\n",
       "      <td>28</td>\n",
       "    </tr>\n",
       "  </tbody>\n",
       "</table>\n",
       "</div>"
      ],
      "text/plain": [
       "            Runs        Ave          SR      Fours      Sixes        HF  Count\n",
       "Clus                                                                          \n",
       "0     134.451613  20.091774  114.370323  11.290323   4.645161  0.419355     62\n",
       "1     409.214286  35.000000  129.778929  38.607143  14.071429  2.892857     28"
      ]
     },
     "execution_count": 25,
     "metadata": {},
     "output_type": "execute_result"
    }
   ],
   "source": [
    "avg=stats.groupby(['Clus']).mean()\n",
    "avg['Count']=stats.Clus.value_counts().sort_index()\n",
    "avg"
   ]
  },
  {
   "cell_type": "code",
   "execution_count": 26,
   "id": "5a1743f2",
   "metadata": {},
   "outputs": [
    {
     "data": {
      "text/html": [
       "<div>\n",
       "<style scoped>\n",
       "    .dataframe tbody tr th:only-of-type {\n",
       "        vertical-align: middle;\n",
       "    }\n",
       "\n",
       "    .dataframe tbody tr th {\n",
       "        vertical-align: top;\n",
       "    }\n",
       "\n",
       "    .dataframe thead th {\n",
       "        text-align: right;\n",
       "    }\n",
       "</style>\n",
       "<table border=\"1\" class=\"dataframe\">\n",
       "  <thead>\n",
       "    <tr style=\"text-align: right;\">\n",
       "      <th></th>\n",
       "      <th>Name</th>\n",
       "      <th>Runs</th>\n",
       "      <th>Ave</th>\n",
       "      <th>SR</th>\n",
       "      <th>Fours</th>\n",
       "      <th>Sixes</th>\n",
       "      <th>HF</th>\n",
       "      <th>Clus</th>\n",
       "    </tr>\n",
       "  </thead>\n",
       "  <tbody>\n",
       "    <tr>\n",
       "      <th>1</th>\n",
       "      <td>CH Gayle</td>\n",
       "      <td>733.0</td>\n",
       "      <td>61.08</td>\n",
       "      <td>160.74</td>\n",
       "      <td>46.0</td>\n",
       "      <td>59.0</td>\n",
       "      <td>9.0</td>\n",
       "      <td>Grade A</td>\n",
       "    </tr>\n",
       "    <tr>\n",
       "      <th>3</th>\n",
       "      <td>G Gambhir</td>\n",
       "      <td>590.0</td>\n",
       "      <td>36.87</td>\n",
       "      <td>143.55</td>\n",
       "      <td>64.0</td>\n",
       "      <td>17.0</td>\n",
       "      <td>6.0</td>\n",
       "      <td>Grade A</td>\n",
       "    </tr>\n",
       "    <tr>\n",
       "      <th>5</th>\n",
       "      <td>V Sehwag</td>\n",
       "      <td>495.0</td>\n",
       "      <td>33.00</td>\n",
       "      <td>161.23</td>\n",
       "      <td>57.0</td>\n",
       "      <td>19.0</td>\n",
       "      <td>5.0</td>\n",
       "      <td>Grade A</td>\n",
       "    </tr>\n",
       "    <tr>\n",
       "      <th>7</th>\n",
       "      <td>CL White</td>\n",
       "      <td>479.0</td>\n",
       "      <td>43.54</td>\n",
       "      <td>149.68</td>\n",
       "      <td>41.0</td>\n",
       "      <td>20.0</td>\n",
       "      <td>5.0</td>\n",
       "      <td>Grade A</td>\n",
       "    </tr>\n",
       "    <tr>\n",
       "      <th>9</th>\n",
       "      <td>S Dhawan</td>\n",
       "      <td>569.0</td>\n",
       "      <td>40.64</td>\n",
       "      <td>129.61</td>\n",
       "      <td>58.0</td>\n",
       "      <td>18.0</td>\n",
       "      <td>5.0</td>\n",
       "      <td>Grade A</td>\n",
       "    </tr>\n",
       "  </tbody>\n",
       "</table>\n",
       "</div>"
      ],
      "text/plain": [
       "        Name   Runs    Ave      SR  Fours  Sixes   HF     Clus\n",
       "1   CH Gayle  733.0  61.08  160.74   46.0   59.0  9.0  Grade A\n",
       "3  G Gambhir  590.0  36.87  143.55   64.0   17.0  6.0  Grade A\n",
       "5   V Sehwag  495.0  33.00  161.23   57.0   19.0  5.0  Grade A\n",
       "7   CL White  479.0  43.54  149.68   41.0   20.0  5.0  Grade A\n",
       "9   S Dhawan  569.0  40.64  129.61   58.0   18.0  5.0  Grade A"
      ]
     },
     "execution_count": 26,
     "metadata": {},
     "output_type": "execute_result"
    }
   ],
   "source": [
    "stats['Clus']=stats['Clus'].replace({1: 'Grade A', 0: 'Grade B'})\n",
    "stats.head()"
   ]
  },
  {
   "cell_type": "code",
   "execution_count": 27,
   "id": "ec2edd04",
   "metadata": {},
   "outputs": [
    {
     "data": {
      "text/plain": [
       "Grade A    28\n",
       "Grade B    62\n",
       "Name: Clus, dtype: int64"
      ]
     },
     "execution_count": 27,
     "metadata": {},
     "output_type": "execute_result"
    }
   ],
   "source": [
    "stats['Clus'].value_counts().sort_index()"
   ]
  },
  {
   "cell_type": "code",
   "execution_count": 28,
   "id": "68ed1734",
   "metadata": {},
   "outputs": [
    {
     "data": {
      "text/html": [
       "<div>\n",
       "<style scoped>\n",
       "    .dataframe tbody tr th:only-of-type {\n",
       "        vertical-align: middle;\n",
       "    }\n",
       "\n",
       "    .dataframe tbody tr th {\n",
       "        vertical-align: top;\n",
       "    }\n",
       "\n",
       "    .dataframe thead th {\n",
       "        text-align: right;\n",
       "    }\n",
       "</style>\n",
       "<table border=\"1\" class=\"dataframe\">\n",
       "  <thead>\n",
       "    <tr style=\"text-align: right;\">\n",
       "      <th></th>\n",
       "      <th>Name</th>\n",
       "      <th>Runs</th>\n",
       "      <th>Ave</th>\n",
       "      <th>SR</th>\n",
       "      <th>Fours</th>\n",
       "      <th>Sixes</th>\n",
       "      <th>HF</th>\n",
       "      <th>Clus</th>\n",
       "    </tr>\n",
       "  </thead>\n",
       "  <tbody>\n",
       "    <tr>\n",
       "      <th>1</th>\n",
       "      <td>CH Gayle</td>\n",
       "      <td>733.0</td>\n",
       "      <td>61.08</td>\n",
       "      <td>160.74</td>\n",
       "      <td>46.0</td>\n",
       "      <td>59.0</td>\n",
       "      <td>9.0</td>\n",
       "      <td>Grade A</td>\n",
       "    </tr>\n",
       "    <tr>\n",
       "      <th>3</th>\n",
       "      <td>G Gambhir</td>\n",
       "      <td>590.0</td>\n",
       "      <td>36.87</td>\n",
       "      <td>143.55</td>\n",
       "      <td>64.0</td>\n",
       "      <td>17.0</td>\n",
       "      <td>6.0</td>\n",
       "      <td>Grade A</td>\n",
       "    </tr>\n",
       "    <tr>\n",
       "      <th>5</th>\n",
       "      <td>V Sehwag</td>\n",
       "      <td>495.0</td>\n",
       "      <td>33.00</td>\n",
       "      <td>161.23</td>\n",
       "      <td>57.0</td>\n",
       "      <td>19.0</td>\n",
       "      <td>5.0</td>\n",
       "      <td>Grade A</td>\n",
       "    </tr>\n",
       "    <tr>\n",
       "      <th>7</th>\n",
       "      <td>CL White</td>\n",
       "      <td>479.0</td>\n",
       "      <td>43.54</td>\n",
       "      <td>149.68</td>\n",
       "      <td>41.0</td>\n",
       "      <td>20.0</td>\n",
       "      <td>5.0</td>\n",
       "      <td>Grade A</td>\n",
       "    </tr>\n",
       "    <tr>\n",
       "      <th>9</th>\n",
       "      <td>S Dhawan</td>\n",
       "      <td>569.0</td>\n",
       "      <td>40.64</td>\n",
       "      <td>129.61</td>\n",
       "      <td>58.0</td>\n",
       "      <td>18.0</td>\n",
       "      <td>5.0</td>\n",
       "      <td>Grade A</td>\n",
       "    </tr>\n",
       "  </tbody>\n",
       "</table>\n",
       "</div>"
      ],
      "text/plain": [
       "        Name   Runs    Ave      SR  Fours  Sixes   HF     Clus\n",
       "1   CH Gayle  733.0  61.08  160.74   46.0   59.0  9.0  Grade A\n",
       "3  G Gambhir  590.0  36.87  143.55   64.0   17.0  6.0  Grade A\n",
       "5   V Sehwag  495.0  33.00  161.23   57.0   19.0  5.0  Grade A\n",
       "7   CL White  479.0  43.54  149.68   41.0   20.0  5.0  Grade A\n",
       "9   S Dhawan  569.0  40.64  129.61   58.0   18.0  5.0  Grade A"
      ]
     },
     "execution_count": 28,
     "metadata": {},
     "output_type": "execute_result"
    }
   ],
   "source": [
    "Grade_A=stats[stats['Clus']=='Grade A']\n",
    "Grade_A.head()"
   ]
  },
  {
   "cell_type": "code",
   "execution_count": 29,
   "id": "271740db",
   "metadata": {},
   "outputs": [
    {
     "data": {
      "text/html": [
       "<div>\n",
       "<style scoped>\n",
       "    .dataframe tbody tr th:only-of-type {\n",
       "        vertical-align: middle;\n",
       "    }\n",
       "\n",
       "    .dataframe tbody tr th {\n",
       "        vertical-align: top;\n",
       "    }\n",
       "\n",
       "    .dataframe thead th {\n",
       "        text-align: right;\n",
       "    }\n",
       "</style>\n",
       "<table border=\"1\" class=\"dataframe\">\n",
       "  <thead>\n",
       "    <tr style=\"text-align: right;\">\n",
       "      <th></th>\n",
       "      <th>Name</th>\n",
       "      <th>Runs</th>\n",
       "      <th>Ave</th>\n",
       "      <th>SR</th>\n",
       "      <th>Fours</th>\n",
       "      <th>Sixes</th>\n",
       "      <th>HF</th>\n",
       "      <th>Clus</th>\n",
       "    </tr>\n",
       "  </thead>\n",
       "  <tbody>\n",
       "    <tr>\n",
       "      <th>19</th>\n",
       "      <td>JP Duminy</td>\n",
       "      <td>244.0</td>\n",
       "      <td>81.33</td>\n",
       "      <td>128.42</td>\n",
       "      <td>13.0</td>\n",
       "      <td>11.0</td>\n",
       "      <td>2.0</td>\n",
       "      <td>Grade B</td>\n",
       "    </tr>\n",
       "    <tr>\n",
       "      <th>21</th>\n",
       "      <td>DA Warner</td>\n",
       "      <td>256.0</td>\n",
       "      <td>36.57</td>\n",
       "      <td>164.10</td>\n",
       "      <td>28.0</td>\n",
       "      <td>14.0</td>\n",
       "      <td>3.0</td>\n",
       "      <td>Grade B</td>\n",
       "    </tr>\n",
       "    <tr>\n",
       "      <th>23</th>\n",
       "      <td>SR Watson</td>\n",
       "      <td>255.0</td>\n",
       "      <td>42.50</td>\n",
       "      <td>151.78</td>\n",
       "      <td>26.0</td>\n",
       "      <td>14.0</td>\n",
       "      <td>2.0</td>\n",
       "      <td>Grade B</td>\n",
       "    </tr>\n",
       "    <tr>\n",
       "      <th>41</th>\n",
       "      <td>DR Smith</td>\n",
       "      <td>157.0</td>\n",
       "      <td>39.25</td>\n",
       "      <td>160.20</td>\n",
       "      <td>18.0</td>\n",
       "      <td>7.0</td>\n",
       "      <td>1.0</td>\n",
       "      <td>Grade B</td>\n",
       "    </tr>\n",
       "    <tr>\n",
       "      <th>53</th>\n",
       "      <td>KA Pollard</td>\n",
       "      <td>220.0</td>\n",
       "      <td>24.44</td>\n",
       "      <td>138.36</td>\n",
       "      <td>15.0</td>\n",
       "      <td>14.0</td>\n",
       "      <td>2.0</td>\n",
       "      <td>Grade B</td>\n",
       "    </tr>\n",
       "  </tbody>\n",
       "</table>\n",
       "</div>"
      ],
      "text/plain": [
       "          Name   Runs    Ave      SR  Fours  Sixes   HF     Clus\n",
       "19   JP Duminy  244.0  81.33  128.42   13.0   11.0  2.0  Grade B\n",
       "21   DA Warner  256.0  36.57  164.10   28.0   14.0  3.0  Grade B\n",
       "23   SR Watson  255.0  42.50  151.78   26.0   14.0  2.0  Grade B\n",
       "41    DR Smith  157.0  39.25  160.20   18.0    7.0  1.0  Grade B\n",
       "53  KA Pollard  220.0  24.44  138.36   15.0   14.0  2.0  Grade B"
      ]
     },
     "execution_count": 29,
     "metadata": {},
     "output_type": "execute_result"
    }
   ],
   "source": [
    "Grade_B=stats[stats['Clus']=='Grade B']\n",
    "Grade_B.head()"
   ]
  },
  {
   "cell_type": "markdown",
   "id": "ad800fca",
   "metadata": {},
   "source": [
    "## Summary\n",
    " \n",
    "  1. By the KNN method we have divided this into two cluster .\n",
    "     Grade-A\n",
    "     Grade-b\n",
    "  2. But by clustering the Algo is dividing this on the basis of runs which we have already given.\n",
    "  3. Some Exceptions cases are their like:- Player Jp dummy has Avg high but its is considered in Garde B"
   ]
  }
 ],
 "metadata": {
  "kernelspec": {
   "display_name": "Python 3 (ipykernel)",
   "language": "python",
   "name": "python3"
  },
  "language_info": {
   "codemirror_mode": {
    "name": "ipython",
    "version": 3
   },
   "file_extension": ".py",
   "mimetype": "text/x-python",
   "name": "python",
   "nbconvert_exporter": "python",
   "pygments_lexer": "ipython3",
   "version": "3.9.7"
  }
 },
 "nbformat": 4,
 "nbformat_minor": 5
}
